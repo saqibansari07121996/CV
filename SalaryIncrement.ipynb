{
  "nbformat": 4,
  "nbformat_minor": 0,
  "metadata": {
    "colab": {
      "name": "SalaryIncrement.ipynb",
      "provenance": [],
      "collapsed_sections": [],
      "authorship_tag": "ABX9TyM5kERz+WIFc1DuEMTeE/VZ",
      "include_colab_link": true
    },
    "kernelspec": {
      "name": "python3",
      "display_name": "Python 3"
    },
    "language_info": {
      "name": "python"
    }
  },
  "cells": [
    {
      "cell_type": "markdown",
      "metadata": {
        "id": "view-in-github",
        "colab_type": "text"
      },
      "source": [
        "<a href=\"https://colab.research.google.com/github/saqibansari07121996/CV/blob/main/SalaryIncrement.ipynb\" target=\"_parent\"><img src=\"https://colab.research.google.com/assets/colab-badge.svg\" alt=\"Open In Colab\"/></a>"
      ]
    },
    {
      "cell_type": "code",
      "execution_count": null,
      "metadata": {
        "id": "GByJ5yk3-lJu"
      },
      "outputs": [],
      "source": [
        "import numpy as np"
      ]
    },
    {
      "cell_type": "code",
      "source": [
        "inputs = np.array([[18,2], [20,3], [21, 4],  \n",
        "                   [35,15], [36,16], [38, 18]])"
      ],
      "metadata": {
        "id": "8kOCfvoz-saV"
      },
      "execution_count": null,
      "outputs": []
    },
    {
      "cell_type": "code",
      "source": [
        "inputs=inputs/inputs.mean()\n",
        "inputs"
      ],
      "metadata": {
        "colab": {
          "base_uri": "https://localhost:8080/"
        },
        "id": "vDMdup7_Bfso",
        "outputId": "b867ba22-db56-4e5e-aa59-43a265476fdc"
      },
      "execution_count": null,
      "outputs": [
        {
          "output_type": "execute_result",
          "data": {
            "text/plain": [
              "array([[0.95575221, 0.10619469],\n",
              "       [1.0619469 , 0.15929204],\n",
              "       [1.11504425, 0.21238938],\n",
              "       [1.85840708, 0.79646018],\n",
              "       [1.91150442, 0.84955752],\n",
              "       [2.01769912, 0.95575221]])"
            ]
          },
          "metadata": {},
          "execution_count": 3
        }
      ]
    },
    {
      "cell_type": "code",
      "source": [
        "inputs.shape"
      ],
      "metadata": {
        "colab": {
          "base_uri": "https://localhost:8080/"
        },
        "id": "sANdWMUK-vrH",
        "outputId": "99cdb4e6-8da9-44f2-86ec-171fcf9e28c8"
      },
      "execution_count": null,
      "outputs": [
        {
          "output_type": "execute_result",
          "data": {
            "text/plain": [
              "(6, 2)"
            ]
          },
          "metadata": {},
          "execution_count": 4
        }
      ]
    },
    {
      "cell_type": "code",
      "source": [
        "outputs = np.array([0, 0, 0, 1, 1, 1])"
      ],
      "metadata": {
        "id": "WMSGa-yN-ynF"
      },
      "execution_count": null,
      "outputs": []
    },
    {
      "cell_type": "code",
      "source": [
        "outputs.shape"
      ],
      "metadata": {
        "colab": {
          "base_uri": "https://localhost:8080/"
        },
        "id": "ty7vw6ll-2hF",
        "outputId": "c5e60e12-579d-4891-cb95-c5a7ce89e3f0"
      },
      "execution_count": null,
      "outputs": [
        {
          "output_type": "execute_result",
          "data": {
            "text/plain": [
              "(6,)"
            ]
          },
          "metadata": {},
          "execution_count": 6
        }
      ]
    },
    {
      "cell_type": "code",
      "source": [
        "weights=np.array([0.0,0.0])"
      ],
      "metadata": {
        "id": "kOPJBRmj-33Z"
      },
      "execution_count": null,
      "outputs": []
    },
    {
      "cell_type": "code",
      "source": [
        "learning_rate=0.1"
      ],
      "metadata": {
        "id": "bJjmr6SnBRr0"
      },
      "execution_count": null,
      "outputs": []
    },
    {
      "cell_type": "code",
      "source": [
        "def step_func(sum):\n",
        "  if sum>=1:\n",
        "    return 1\n",
        "  return 0"
      ],
      "metadata": {
        "id": "13ldiDhx_AuE"
      },
      "execution_count": null,
      "outputs": []
    },
    {
      "cell_type": "code",
      "source": [
        "def calc_out(instance):\n",
        "  s=instance.dot(weights)\n",
        "  return step_func(s)"
      ],
      "metadata": {
        "id": "O1yAcTxA_GnY"
      },
      "execution_count": null,
      "outputs": []
    },
    {
      "cell_type": "code",
      "source": [
        "calc_out(inputs[4])"
      ],
      "metadata": {
        "colab": {
          "base_uri": "https://localhost:8080/"
        },
        "id": "mJbf8utZ_SP1",
        "outputId": "3699804b-f745-4b7d-d423-8473b1799b76"
      },
      "execution_count": null,
      "outputs": [
        {
          "output_type": "execute_result",
          "data": {
            "text/plain": [
              "0"
            ]
          },
          "metadata": {},
          "execution_count": 11
        }
      ]
    },
    {
      "cell_type": "code",
      "source": [
        "def train():\n",
        "  total_error=1\n",
        "  while(total_error!=0):\n",
        "    total_error=0\n",
        "    for i in range(len(outputs)):\n",
        "      predict=calc_out(inputs[i])\n",
        "      error=abs(outputs[i]-predict)\n",
        "      total_error+=error\n",
        "      if error>0:\n",
        "        for j in range(len(weights)):\n",
        "          weights[j]=weights[j]+(learning_rate*inputs[i][j]*error)\n",
        "          print('Updated weights: ' + str(weights[j]))\n",
        "    print(\"Total Error: \"+ str(total_error))\n",
        "                         "
      ],
      "metadata": {
        "id": "oHelcpr3AA0N"
      },
      "execution_count": null,
      "outputs": []
    },
    {
      "cell_type": "code",
      "source": [
        "train()"
      ],
      "metadata": {
        "colab": {
          "base_uri": "https://localhost:8080/"
        },
        "id": "SwNBosYvBw82",
        "outputId": "6c0a2a01-1450-4e15-f4d2-685252b16852"
      },
      "execution_count": null,
      "outputs": [
        {
          "output_type": "stream",
          "name": "stdout",
          "text": [
            "Updated weights: 0.1858407079646018\n",
            "Updated weights: 0.07964601769911506\n",
            "Updated weights: 0.37699115044247794\n",
            "Updated weights: 0.16460176991150444\n",
            "Updated weights: 0.5787610619469028\n",
            "Updated weights: 0.2601769911504425\n",
            "Total Error: 3\n",
            "Total Error: 0\n"
          ]
        }
      ]
    },
    {
      "cell_type": "code",
      "source": [
        "weights"
      ],
      "metadata": {
        "colab": {
          "base_uri": "https://localhost:8080/"
        },
        "id": "1XsjMRpXB9w0",
        "outputId": "bd0b2c85-69e7-449e-dfdd-23a64677b8ae"
      },
      "execution_count": null,
      "outputs": [
        {
          "output_type": "execute_result",
          "data": {
            "text/plain": [
              "array([0.57876106, 0.26017699])"
            ]
          },
          "metadata": {},
          "execution_count": 14
        }
      ]
    },
    {
      "cell_type": "code",
      "source": [
        "calc_out(np.array([17,5]))"
      ],
      "metadata": {
        "colab": {
          "base_uri": "https://localhost:8080/"
        },
        "id": "EXcYmKrcB_wl",
        "outputId": "8fa21cef-3958-41fe-8933-da69b9a8e0dd"
      },
      "execution_count": null,
      "outputs": [
        {
          "output_type": "execute_result",
          "data": {
            "text/plain": [
              "1"
            ]
          },
          "metadata": {},
          "execution_count": 15
        }
      ]
    },
    {
      "cell_type": "code",
      "source": [
        "calc_out(np.array([47,10]))"
      ],
      "metadata": {
        "colab": {
          "base_uri": "https://localhost:8080/"
        },
        "id": "YBcSPYxICG41",
        "outputId": "b4c7d111-6ad5-4689-de04-c9b935ee6dc2"
      },
      "execution_count": null,
      "outputs": [
        {
          "output_type": "execute_result",
          "data": {
            "text/plain": [
              "1"
            ]
          },
          "metadata": {},
          "execution_count": 16
        }
      ]
    },
    {
      "cell_type": "code",
      "source": [
        "calc_out(np.array([25,8]))"
      ],
      "metadata": {
        "colab": {
          "base_uri": "https://localhost:8080/"
        },
        "id": "Grw1w5EXCLER",
        "outputId": "4e89fa7c-36a5-49ec-ed24-2de9d90356ba"
      },
      "execution_count": null,
      "outputs": [
        {
          "output_type": "execute_result",
          "data": {
            "text/plain": [
              "1"
            ]
          },
          "metadata": {},
          "execution_count": 17
        }
      ]
    },
    {
      "cell_type": "code",
      "source": [
        "calc_out(np.array([31,20]))"
      ],
      "metadata": {
        "colab": {
          "base_uri": "https://localhost:8080/"
        },
        "id": "xnYVRhm1CN5M",
        "outputId": "eac77361-b6d0-4045-9866-e65f46f83435"
      },
      "execution_count": null,
      "outputs": [
        {
          "output_type": "execute_result",
          "data": {
            "text/plain": [
              "1"
            ]
          },
          "metadata": {},
          "execution_count": 18
        }
      ]
    },
    {
      "cell_type": "code",
      "source": [
        "calc_out(np.array([21,4]))"
      ],
      "metadata": {
        "colab": {
          "base_uri": "https://localhost:8080/"
        },
        "id": "vGtSEXeQCRCp",
        "outputId": "70b62bf6-6080-4eaa-d015-f59166e96fd9"
      },
      "execution_count": null,
      "outputs": [
        {
          "output_type": "execute_result",
          "data": {
            "text/plain": [
              "1"
            ]
          },
          "metadata": {},
          "execution_count": 19
        }
      ]
    },
    {
      "cell_type": "code",
      "source": [
        "calc_out(np.array([18,2]))"
      ],
      "metadata": {
        "colab": {
          "base_uri": "https://localhost:8080/"
        },
        "id": "rwaaOXEUCUxS",
        "outputId": "287b8f21-1809-4e9b-c530-84aba68d7ca3"
      },
      "execution_count": null,
      "outputs": [
        {
          "output_type": "execute_result",
          "data": {
            "text/plain": [
              "1"
            ]
          },
          "metadata": {},
          "execution_count": 20
        }
      ]
    },
    {
      "cell_type": "code",
      "source": [
        "net_sum=inputs.dot(weights)\n",
        "net_sum"
      ],
      "metadata": {
        "colab": {
          "base_uri": "https://localhost:8080/"
        },
        "id": "cC8BtNT_CaJL",
        "outputId": "d8a8fd51-1364-4dbf-9abb-5f4b590cbc1b"
      },
      "execution_count": null,
      "outputs": [
        {
          "output_type": "execute_result",
          "data": {
            "text/plain": [
              "array([0.58078158, 0.65605764, 0.70060302, 1.28279427, 1.32733965,\n",
              "       1.41643042])"
            ]
          },
          "metadata": {},
          "execution_count": 21
        }
      ]
    },
    {
      "cell_type": "code",
      "source": [
        "step_func(net_sum[0])"
      ],
      "metadata": {
        "colab": {
          "base_uri": "https://localhost:8080/"
        },
        "id": "SLsmcLklCwpE",
        "outputId": "568c403d-8a97-4bf7-eb9c-dc43f15d6fbc"
      },
      "execution_count": null,
      "outputs": [
        {
          "output_type": "execute_result",
          "data": {
            "text/plain": [
              "0"
            ]
          },
          "metadata": {},
          "execution_count": 22
        }
      ]
    },
    {
      "cell_type": "code",
      "source": [
        "calc_out(inputs[0])"
      ],
      "metadata": {
        "colab": {
          "base_uri": "https://localhost:8080/"
        },
        "id": "_OCbvj_aC4nL",
        "outputId": "d2f2128c-031b-463f-d0c5-714db7c4f66d"
      },
      "execution_count": null,
      "outputs": [
        {
          "output_type": "execute_result",
          "data": {
            "text/plain": [
              "0"
            ]
          },
          "metadata": {},
          "execution_count": 23
        }
      ]
    },
    {
      "cell_type": "code",
      "source": [
        "test_inputs = np.array([[17,5], [25,8],  \n",
        "                        [45,10], [31,20]])"
      ],
      "metadata": {
        "id": "DUCnbtpeEsW-"
      },
      "execution_count": null,
      "outputs": []
    },
    {
      "cell_type": "code",
      "source": [
        "test_inputs=test_inputs/test_inputs.mean()\n",
        "test_inputs"
      ],
      "metadata": {
        "colab": {
          "base_uri": "https://localhost:8080/"
        },
        "id": "F4r5NsbdFPoS",
        "outputId": "45f8aea8-83ef-4b09-8cf3-002d6fa6b32a"
      },
      "execution_count": null,
      "outputs": [
        {
          "output_type": "execute_result",
          "data": {
            "text/plain": [
              "array([[0.8447205 , 0.2484472 ],\n",
              "       [1.24223602, 0.39751553],\n",
              "       [2.23602484, 0.49689441],\n",
              "       [1.54037267, 0.99378882]])"
            ]
          },
          "metadata": {},
          "execution_count": 31
        }
      ]
    },
    {
      "cell_type": "code",
      "source": [
        "calc_out(test_inputs[0])"
      ],
      "metadata": {
        "colab": {
          "base_uri": "https://localhost:8080/"
        },
        "id": "uMFYBNZIEy8s",
        "outputId": "6464bda3-9468-4520-ef1f-31ab3185f58f"
      },
      "execution_count": null,
      "outputs": [
        {
          "output_type": "execute_result",
          "data": {
            "text/plain": [
              "1"
            ]
          },
          "metadata": {},
          "execution_count": 26
        }
      ]
    },
    {
      "cell_type": "code",
      "source": [
        "calc_out(test_inputs[2])"
      ],
      "metadata": {
        "colab": {
          "base_uri": "https://localhost:8080/"
        },
        "id": "3UL8ICMFE3c3",
        "outputId": "da428e30-5590-4252-fa18-2df0418d8fdd"
      },
      "execution_count": null,
      "outputs": [
        {
          "output_type": "execute_result",
          "data": {
            "text/plain": [
              "1"
            ]
          },
          "metadata": {},
          "execution_count": 32
        }
      ]
    },
    {
      "cell_type": "code",
      "source": [
        "calc_out(test_inputs[1])"
      ],
      "metadata": {
        "colab": {
          "base_uri": "https://localhost:8080/"
        },
        "id": "g_FnaTPVE-tY",
        "outputId": "72744f1f-31f2-4df2-841b-d93b8fe09a01"
      },
      "execution_count": null,
      "outputs": [
        {
          "output_type": "execute_result",
          "data": {
            "text/plain": [
              "0"
            ]
          },
          "metadata": {},
          "execution_count": 33
        }
      ]
    },
    {
      "cell_type": "code",
      "source": [
        "calc_out(test_inputs[3])"
      ],
      "metadata": {
        "colab": {
          "base_uri": "https://localhost:8080/"
        },
        "id": "bZRbVpvYFBJq",
        "outputId": "e5798096-e593-45ab-8e1f-bac7cf112ca1"
      },
      "execution_count": null,
      "outputs": [
        {
          "output_type": "execute_result",
          "data": {
            "text/plain": [
              "1"
            ]
          },
          "metadata": {},
          "execution_count": 34
        }
      ]
    },
    {
      "cell_type": "code",
      "source": [
        "calc_out(test_inputs[0])"
      ],
      "metadata": {
        "colab": {
          "base_uri": "https://localhost:8080/"
        },
        "id": "Eebs5JA3FHu8",
        "outputId": "96f4276f-c8f8-41da-9c9b-8b86000c3c4a"
      },
      "execution_count": null,
      "outputs": [
        {
          "output_type": "execute_result",
          "data": {
            "text/plain": [
              "0"
            ]
          },
          "metadata": {},
          "execution_count": 36
        }
      ]
    },
    {
      "cell_type": "code",
      "source": [
        "age=float(input(\"Enter your Age in Years\\n\"))\n",
        "exp=float(input('Enter your Experience in Years\\n'))\n",
        "age=age/30\n",
        "exp=exp/12"
      ],
      "metadata": {
        "colab": {
          "base_uri": "https://localhost:8080/"
        },
        "id": "onXKomggRtrf",
        "outputId": "54792560-d28e-4fda-b391-f7aeb56a4773"
      },
      "execution_count": null,
      "outputs": [
        {
          "name": "stdout",
          "output_type": "stream",
          "text": [
            "Enter your Age in Years\n",
            "22\n",
            "Enter your Experience in Years\n",
            "1\n"
          ]
        }
      ]
    },
    {
      "cell_type": "code",
      "source": [
        "if calc_out(np.array([age,exp]))==1:\n",
        "  print(\"You will get an Increment!\")\n",
        "else:\n",
        "  print(\"Sorry, you gotta do some work!\")\n"
      ],
      "metadata": {
        "colab": {
          "base_uri": "https://localhost:8080/"
        },
        "id": "wud5TOiCSG9K",
        "outputId": "c507ea6b-e748-4952-c8d1-7633e9f0322e"
      },
      "execution_count": null,
      "outputs": [
        {
          "output_type": "stream",
          "name": "stdout",
          "text": [
            "Sorry, you gotta do some work!\n"
          ]
        }
      ]
    },
    {
      "cell_type": "code",
      "source": [
        ""
      ],
      "metadata": {
        "id": "zQQXlxT1Sokg"
      },
      "execution_count": null,
      "outputs": []
    }
  ]
}